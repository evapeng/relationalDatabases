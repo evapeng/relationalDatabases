{
 "cells": [
  {
   "cell_type": "markdown",
   "metadata": {},
   "source": [
    "# Introduction\n",
    "\n",
    "In this problem you will be analysing time series data. Specifically, the data that you will be working with has been collecting via Pittsburgh's TrueTime system which is available publicly here http://truetime.portauthority.org/bustime/login.jsp. If you're interested, you can request an API key and collect the data yourself (the process is just submitting a form), however we've already collected some smaller subset of the available data for the purposes of this assignment. "
   ]
  },
  {
   "cell_type": "markdown",
   "metadata": {},
   "source": [
    "## Part 1 TrueTime dataset\n",
    "\n",
    "The bus data has been collected by querying the TrueTime API every minute. Each time, we make two requests: \n",
    "\n",
    "1. We request vehicle information for every bus running on the 61A, 61B, 61C, and 61D bus routes. \n",
    "2. We request all available time predictions for the CMU / Morewood bus stop in both outbound and inbound directions. \n",
    "\n",
    "The results are given as XML, which are consequently parsed and stored within a sqlite database with two tables, one for vehicles and one for predictions. The table for the vehicles is organized in the following manner.  \n",
    "\n",
    "| | **vehicles**             | \n",
    "|----------|-------------|\n",
    "| vid      | vehicle identifier |\n",
    "| tmstmp | date and time of the last positional update of the vehicle |\n",
    "| lat | latitude position of the vehicle in decimal degrees |\n",
    "| lon | longitude position of the vehicle in decimal degrees |\n",
    "| hdg | heading of vehicle as a 360 degree value (0 is north, 90 is east, 180 is south, and 270 is west |\n",
    "| pid | pattern ID of trip currently being executed | \n",
    "| rt | route that is currently being execute | \n",
    "| des | destination of the current trip | \n",
    "| pdist | linear distance (feet) vehicle has traveled into the current pattern |\n",
    "|  spd | speed as reported from the vehicle in miles per hour | \n",
    "| tablockid | TA's version of the scheduled block identifier for work currently behind performed |\n",
    "| tatripid | TA's version of the scheduled trip identifier for the vehicle's current trip |\n",
    "\n",
    "The table for the predictions is organized in the following manner\n",
    "\n",
    "| | **predictions** | \n",
    "|---|---|\n",
    "| tmstmp | date and time the prediction was generated |\n",
    "| typ | type of prediction (A for arrival, D for a departure) | \n",
    "| stpnm | display name of the stop for which this prediction was generated |\n",
    "| stpid | unique identifier representing the stop for which this prediction was generated |\n",
    "| vid | unique ID of the vehicle for which this prediction was generated |\n",
    "| dstp | linear distance (feet) left to be traveled by the vehicle before it reaches the stop for which this prediction was generated |\n",
    "| rt | route for which this prediction was generated | \n",
    "| rtdd | language-specific route designator meant for display |\n",
    "| rtdir | direction of travel of the route associated with this prediction |\n",
    "| des | final destination of the vehicle associated with this prediction |\n",
    "| prdtm | predicted date and time of a vehicle's arrival or departure to the stop associated with this prediction | \n",
    "| dly | true if the vehicle is delayed, only present if the vehicle that generated this prediction is delayed | \n",
    "| tablockid | TA's version of the scheduled block identifier for work currently behind performed |\n",
    "| tatripid | TA's version of the scheduled trip identifier for the vehicle's current trip |\n",
    "    "
   ]
  },
  {
   "cell_type": "markdown",
   "metadata": {},
   "source": [
    "First you will need to read in the data. We have dumped the raw form of the data into a sqlite database, which you can read directly into a pandas dataframe. \n",
    "\n",
    "Since this data has not been processed at all by the course staff, you will need to fix and canonicalize a few things. \n",
    "\n",
    "### Specification\n",
    "\n",
    "1. Sometimes the TrueTime API returns a bogus result that has all the attributes but empty strings for all the values. You should inspect the data for clearly useless entries and remove all offending rows. \n",
    "\n",
    "2. If you check the datatype of each column, you'll notice that most columns are stored as objects. However, some of these columns are in fact integers or floats, and if you wish to run numerical functions on them (like numpy) you'll need to convert the columns to the correct type. Note that strings show up as objects. This is because the underlying implementation of Pandas uses numpy arrays, which need fixed-size entries, so they store pointers to strings. Your dataframe datatypes should match the following order and types (your datatypes may be 32bit instead of 64bit depending on your platform): \n",
    "\n",
    "   ```python\n",
    "   >>> vdf.dtypes\n",
    "   vid                   int64\n",
    "   tmstmp       datetime64[ns]\n",
    "   lat                 float64\n",
    "   lon                 float64\n",
    "   hdg                   int64\n",
    "   pid                   int64\n",
    "   rt                   object\n",
    "   des                  object\n",
    "   pdist                 int64\n",
    "   spd                   int64\n",
    "   tablockid            object\n",
    "   tatripid              int64\n",
    "   dtype: object\n",
    "\n",
    "   >>> pdf.dtypes\n",
    "   tmstmp       datetime64[ns]\n",
    "   typ                  object\n",
    "   stpnm                object\n",
    "   stpid                 int64\n",
    "   vid                   int64\n",
    "   dstp                  int64\n",
    "   rt                   object\n",
    "   rtdd                 object\n",
    "   rtdir                object\n",
    "   des                  object\n",
    "   prdtm        datetime64[ns]\n",
    "   dly                    bool\n",
    "   tablockid            object\n",
    "   tatripid              int64\n",
    "   dtype: object\n",
    "   ```\n",
    "\n",
    "3. As you may have noticed from the above data types, you should convert all timestamps to Pandas datetime objects. "
   ]
  },
  {
   "cell_type": "code",
   "execution_count": 4,
   "metadata": {
    "collapsed": false
   },
   "outputs": [],
   "source": [
    "import pandas as pd\n",
    "import sqlite3"
   ]
  },
  {
   "cell_type": "code",
   "execution_count": 5,
   "metadata": {
    "collapsed": false,
    "scrolled": false
   },
   "outputs": [],
   "source": [
    "def load_data(fname):\n",
    "    \"\"\" Read the given database into two pandas dataframes. \n",
    "    \n",
    "    Args: \n",
    "        fname (string): filename of sqlite3 database to read\n",
    "        \n",
    "    Returns:\n",
    "        (pd.DataFrame, pd.DataFrame): a tuple of two dataframes, the first for the vehicle data and the \n",
    "                                      second for the prediction data. \n",
    "    \"\"\"\n",
    "    conn = sqlite3.connect(fname)\n",
    "    cursor = conn.cursor()\n",
    "    \n",
    "    vehicles = pd.read_sql(\"SELECT * FROM vehicles WHERE vid <> '';\",conn)\n",
    "    predictions = pd.read_sql(\"SELECT * FROM predictions WHERE tmstmp <> '' ;\",conn)\n",
    "    \n",
    "    conn.close()\n",
    "    \n",
    "    vehicles['vid'] = vehicles['vid'].astype(int)\n",
    "    vehicles['tmstmp'] = pd.to_datetime(vehicles['tmstmp'])\n",
    "    vehicles['lat'] = vehicles['lat'].astype(float)\n",
    "    vehicles['lon'] = vehicles['lon'].astype(float)\n",
    "    vehicles['hdg'] = vehicles['hdg'].astype(int)\n",
    "    vehicles['pid'] = vehicles['pid'].astype(int)    \n",
    "    vehicles['pdist'] = vehicles['pdist'].astype(int)\n",
    "    vehicles['spd'] = vehicles['spd'].astype(int)  \n",
    "    vehicles['tatripid'] = vehicles['tatripid'].astype(int)\n",
    "    \n",
    "    predictions['tmstmp'] = pd.to_datetime(predictions['tmstmp'])\n",
    "    predictions['stpid'] = predictions['stpid'].astype(int)\n",
    "    predictions['vid'] = predictions['vid'].astype(int)\n",
    "    predictions['dstp'] = predictions['dstp'].astype(int)\n",
    "    predictions['prdtm'] = pd.to_datetime(predictions['prdtm'])\n",
    "    predictions['dly'] = predictions['dly'].astype(bool)\n",
    "    predictions['tatripid'] = predictions['tatripid'].astype(int)\n",
    "    \n",
    "    return (vehicles,predictions)\n",
    "    \n"
   ]
  },
  {
   "cell_type": "code",
   "execution_count": 6,
   "metadata": {
    "collapsed": false,
    "scrolled": true
   },
   "outputs": [
    {
     "name": "stdout",
     "output_type": "stream",
     "text": [
      "vid                   int32\n",
      "tmstmp       datetime64[ns]\n",
      "lat                 float64\n",
      "lon                 float64\n",
      "hdg                   int32\n",
      "pid                   int32\n",
      "rt                   object\n",
      "des                  object\n",
      "pdist                 int32\n",
      "spd                   int32\n",
      "tablockid            object\n",
      "tatripid              int32\n",
      "dtype: object\n",
      "tmstmp       datetime64[ns]\n",
      "typ                  object\n",
      "stpnm                object\n",
      "stpid                 int32\n",
      "vid                   int32\n",
      "dstp                  int32\n",
      "rt                   object\n",
      "rtdd                 object\n",
      "rtdir                object\n",
      "des                  object\n",
      "prdtm        datetime64[ns]\n",
      "dly                    bool\n",
      "tablockid            object\n",
      "tatripid              int32\n",
      "dtype: object\n",
      "215473 143345\n",
      "    vid              tmstmp        lat        lon  hdg   pid   rt        des  \\\n",
      "0  5549 2016-08-11 10:56:00  40.439504 -79.996981  114  4521  61A  Swissvale   \n",
      "1  5287 2016-08-11 10:56:00  40.438016 -79.927380   83  4521  61A  Swissvale   \n",
      "2  6114 2016-08-11 10:56:00  40.418897 -79.883970  128  4521  61A  Swissvale   \n",
      "3  5646 2016-08-11 10:56:00  40.441155 -79.892990  274  4663  61A   Downtown   \n",
      "4  5443 2016-08-11 10:56:00  40.436370 -79.968362  269  4663  61A   Downtown   \n",
      "\n",
      "   pdist  spd tablockid  tatripid  \n",
      "0   1106    0  061A-164      6691  \n",
      "1  22921   20  061A-163      6687  \n",
      "2  48014   12  061A-162      6683  \n",
      "3  15953   23  061A-166      6433  \n",
      "4  40770   30  061A-165      6430  \n",
      "               tmstmp typ                         stpnm  stpid   vid   dstp  \\\n",
      "0 2016-08-11 10:56:00   A   Forbes Ave opp Morewood Ave   7117  3201    398   \n",
      "1 2016-08-11 10:56:00   A  Forbes Ave past Morewood Ave   4407  6121   8004   \n",
      "2 2016-08-11 10:56:00   A  Forbes Ave past Morewood Ave   4407  3244  13925   \n",
      "3 2016-08-11 10:56:00   A   Forbes Ave opp Morewood Ave   7117  3202  11981   \n",
      "4 2016-08-11 10:56:00   A   Forbes Ave opp Morewood Ave   7117  3249  14013   \n",
      "\n",
      "    rt rtdd     rtdir                des               prdtm    dly tablockid  \\\n",
      "0  61D  61D  OUTBOUND  Murray-Waterfront 2016-08-11 10:57:00  False  061D-276   \n",
      "1  61C  61C   INBOUND           Downtown 2016-08-11 11:05:00  False  061C-232   \n",
      "2  61B  61B   INBOUND           Downtown 2016-08-11 11:08:00  False  061B-196   \n",
      "3  61B  61B  OUTBOUND          Braddock  2016-08-11 11:09:00  False  061B-195   \n",
      "4  61C  61C  OUTBOUND        McKeesport  2016-08-11 11:10:00  False  061C-229   \n",
      "\n",
      "   tatripid  \n",
      "0      6688  \n",
      "1      7377  \n",
      "2      5744  \n",
      "3      6689  \n",
      "4      6690  \n"
     ]
    }
   ],
   "source": [
    "# AUTOLAB_IGNORE_START\n",
    "vdf, pdf = load_data('bus_aug23.db')\n",
    "\n",
    "\n",
    "# Inspect the datatypes of the dataframe\n",
    "print vdf.dtypes\n",
    "print pdf.dtypes\n",
    "\n",
    "print len(vdf), len(pdf)\n",
    "\n",
    "# Inspect the first five entries of the dataframe\n",
    "print vdf.head()\n",
    "print pdf.head()\n",
    "# AUTOLAB_IGNORE_STOP"
   ]
  },
  {
   "cell_type": "markdown",
   "metadata": {},
   "source": [
    "## Part 2 Splitting Trips\n",
    "\n",
    "For this assignment, we will focus on the vehicles dataframe and come back to the predictions later. The next thing we will do is take the dataframe of vehicles and and split it into individual trips. Specifically, a trip is the sequence of rows corresponding to a single bus, typically at one minute intervals, from the start of its route to the end of its route. We will represent each trip as an individual dataframe, and create a list of dataframes for each trip. \n",
    "\n",
    "### Specification\n",
    "1. All entries in a trip should belong to a single route, destination, pattern, and bus. \n",
    "\n",
    "2. The entries in a trip should have (not strictly) monotonically increasing timestamps and distance traveled. \n",
    "\n",
    "3. Each trip should be of maximal size. I.e. you should sort first by time, and secondarily by pdist, and use a drop in a pdist as an indication that a new trip has started. \n",
    "\n",
    "3. Each trip should have the timestamp set as the index, named `tmstmp`"
   ]
  },
  {
   "cell_type": "code",
   "execution_count": 58,
   "metadata": {
    "collapsed": false
   },
   "outputs": [],
   "source": [
    "def split_trips(df):\n",
    "    \"\"\" Splits the dataframe of vehicle data into a list of dataframes for each individual trip. \n",
    "    \n",
    "    Args: \n",
    "        df (pd.DataFrame): A dataframe containing TrueTime bus data\n",
    "        \n",
    "    Returns: \n",
    "        (list): A list of dataframes, where each dataFrame contains TrueTime bus data for a single bus running a\n",
    "    \"\"\"\n",
    "    dataframes = []\n",
    "    \n",
    "    #df.sort_values(by=['rt','des','pid','vid'])\n",
    "    df = df.set_index(df.loc[:,'tmstmp'])\n",
    "    \n",
    "    grouped = df.groupby(['rt','pid','vid'])    \n",
    "    for df2 in grouped:\n",
    "        \n",
    "        #sort values\n",
    "        df2 = df2[1].sort_values(['tmstmp','pdist'])\n",
    "        #index for slicing\n",
    "        index_left = 0\n",
    "        index_right = 0\n",
    "        \n",
    "        #loop through every row in our group\n",
    "        for i in xrange(1,len(df2)):\n",
    "            #get before and after values\n",
    "            pdist = df2.iloc[[i]].pdist.values[0];\n",
    "            pdist_bef = df2.iloc[[i-1]].pdist.values[0];\n",
    "            \n",
    "            #if our value is smaller than the one before\n",
    "            if pdist < pdist_bef:\n",
    "                #slice our list and add it to dataframe\n",
    "                index_right += 1\n",
    "                dataframes.append(df2[index_left:index_right])\n",
    "                #update our left and right indexes\n",
    "                index_left = index_right\n",
    "                \n",
    "            else: index_right += 1             \n",
    "        #add last value \n",
    "        if (len(df2) != 0):\n",
    "            dataframes.append(df2[index_left:index_right+1])\n",
    "                            \n",
    "    return dataframes\n",
    "\n",
    "#[x,y,z]\n",
    "# AUTOLAB_IGNORE_START    \n",
    "# all_trips = { rt : split_trips(vdf[vdf[\"rt\"]==rt]) for rt in [\"61A\", \"61B\", \"61C\", \"61D\"] }\n",
    "# AUTOLAB_IGNORE_STOP"
   ]
  },
  {
   "cell_type": "markdown",
   "metadata": {},
   "source": [
    "You should verify that your code meets the specification above. Use this cell to write tests that check the validity of your resulting output. For example,you should test that the total number of datapoints in the list of dataframes is the same as the number of datapoints in the original dataframe. "
   ]
  },
  {
   "cell_type": "code",
   "execution_count": 59,
   "metadata": {
    "collapsed": false
   },
   "outputs": [
    {
     "name": "stdout",
     "output_type": "stream",
     "text": [
      "[('61B', 1104), ('61C', 1334), ('61A', 966), ('61D', 1212)]\n"
     ]
    },
    {
     "ename": "AttributeError",
     "evalue": "'dict' object has no attribute 'head'",
     "output_type": "error",
     "traceback": [
      "\u001b[1;31m---------------------------------------------------------------------------\u001b[0m",
      "\u001b[1;31mAttributeError\u001b[0m                            Traceback (most recent call last)",
      "\u001b[1;32m<ipython-input-59-fe7021ee27fd>\u001b[0m in \u001b[0;36m<module>\u001b[1;34m()\u001b[0m\n\u001b[0;32m      4\u001b[0m \u001b[0mall_trips\u001b[0m \u001b[1;33m=\u001b[0m \u001b[1;33m{\u001b[0m \u001b[0mrt\u001b[0m \u001b[1;33m:\u001b[0m \u001b[0msplit_trips\u001b[0m\u001b[1;33m(\u001b[0m\u001b[0mvdf\u001b[0m\u001b[1;33m[\u001b[0m\u001b[0mvdf\u001b[0m\u001b[1;33m[\u001b[0m\u001b[1;34m\"rt\"\u001b[0m\u001b[1;33m]\u001b[0m\u001b[1;33m==\u001b[0m\u001b[0mrt\u001b[0m\u001b[1;33m]\u001b[0m\u001b[1;33m)\u001b[0m \u001b[1;32mfor\u001b[0m \u001b[0mrt\u001b[0m \u001b[1;32min\u001b[0m \u001b[1;33m[\u001b[0m\u001b[1;34m\"61A\"\u001b[0m\u001b[1;33m,\u001b[0m \u001b[1;34m\"61B\"\u001b[0m\u001b[1;33m,\u001b[0m \u001b[1;34m\"61C\"\u001b[0m\u001b[1;33m,\u001b[0m \u001b[1;34m\"61D\"\u001b[0m\u001b[1;33m]\u001b[0m \u001b[1;33m}\u001b[0m\u001b[1;33m\u001b[0m\u001b[0m\n\u001b[0;32m      5\u001b[0m \u001b[1;32mprint\u001b[0m \u001b[1;33m[\u001b[0m\u001b[1;33m(\u001b[0m\u001b[0mt\u001b[0m\u001b[1;33m,\u001b[0m\u001b[0mlen\u001b[0m\u001b[1;33m(\u001b[0m\u001b[0mall_trips\u001b[0m\u001b[1;33m[\u001b[0m\u001b[0mt\u001b[0m\u001b[1;33m]\u001b[0m\u001b[1;33m)\u001b[0m\u001b[1;33m)\u001b[0m \u001b[1;32mfor\u001b[0m \u001b[0mt\u001b[0m \u001b[1;32min\u001b[0m \u001b[0mall_trips\u001b[0m\u001b[1;33m]\u001b[0m\u001b[1;33m\u001b[0m\u001b[0m\n\u001b[1;32m----> 6\u001b[1;33m \u001b[1;32mprint\u001b[0m \u001b[0mall_trips\u001b[0m\u001b[1;33m.\u001b[0m\u001b[0mhead\u001b[0m\u001b[1;33m(\u001b[0m\u001b[1;33m)\u001b[0m\u001b[1;33m\u001b[0m\u001b[0m\n\u001b[0m\u001b[0;32m      7\u001b[0m \u001b[1;31m# df = split_trips(vdf)\u001b[0m\u001b[1;33m\u001b[0m\u001b[1;33m\u001b[0m\u001b[0m\n\u001b[0;32m      8\u001b[0m \u001b[1;31m# print len(df)\u001b[0m\u001b[1;33m\u001b[0m\u001b[1;33m\u001b[0m\u001b[0m\n",
      "\u001b[1;31mAttributeError\u001b[0m: 'dict' object has no attribute 'head'"
     ]
    }
   ],
   "source": [
    "# Test the validity of your code here\n",
    "# AUTOLAB_IGNORE_START    \n",
    "vdf, pdf = load_data('bus_aug23.db')\n",
    "all_trips = { rt : split_trips(vdf[vdf[\"rt\"]==rt]) for rt in [\"61A\", \"61B\", \"61C\", \"61D\"] }\n",
    "print [(t,len(all_trips[t])) for t in all_trips]\n",
    "# df = split_trips(vdf)\n",
    "# print len(df)\n",
    "\n",
    "# AUTOLAB_IGNORE_STOP\n",
    "\n"
   ]
  },
  {
   "cell_type": "markdown",
   "metadata": {},
   "source": [
    "## Part 3 Sliding Averages\n",
    "\n",
    "Let's compute a basic statistic for time series / sequential data, which is the sliding average. Sliding averages are typically used to smooth out short-term fluctuations to see the long-term patterns. \n",
    "\n",
    "While it would be fairly simple to directly construct a list of all the sliding averages from the existing dataset, in reality, new TrueTime bus data is constantly being available every day. Thus, instead of storing an unbounded list of datapoints, we instead will construct a class which does constant time updates as new data comes in. \n",
    "\n",
    "### Specifications\n",
    "1. Your function should not use more than O(k) memory. \n",
    "2. Each update should do O(1) work. \n",
    "3. We will use a centered sliding average: we will average the k values both before and after, averaging a total of 2k+1 elements. Note that k=0 will just return the stream without any averaging. \n",
    "4. Since the average depends on both past and future elements, the `update` function will not be able to output anything useful for the first k elements. You should output `None` during these iterations. We suggest you signify the end of the stream by calling `update(None)` k times, during which you should output the last k sliding averages. \n",
    "4. When at the beginning or end of a list, just compute the average of elements that exist. \n",
    "5. As usual, you should test the correctness of your code. You can do this in the same cell or make a new cell.\n",
    "\n",
    "Note: you may find the `collections.deque` data structure to be helpful. \n",
    "\n",
    "Example: \n",
    "```python\n",
    ">>> compute_sliding_averages(pd.Series([1,2,3,4,5]),1)\n",
    "pdf.Series([1.5, 2.0, 3.0, 4.0, 4.5])\n",
    "```"
   ]
  },
  {
   "cell_type": "code",
   "execution_count": 62,
   "metadata": {
    "collapsed": false,
    "scrolled": true
   },
   "outputs": [
    {
     "name": "stdout",
     "output_type": "stream",
     "text": [
      "[2.5, 3.0, 3.5, 4.0, 5.0, 6.0, 7.0, 8.0, 8.5, 9.0, 9.5]\n"
     ]
    }
   ],
   "source": [
    "from collections import deque\n",
    "\n",
    "class SlidingAverage:\n",
    "    def __init__(self,k):\n",
    "        \"\"\" Initializes a sliding average calculator which keeps track of the average of the last k seen elements. \n",
    "        \n",
    "        Args: \n",
    "            k (int): the number of elements to average (the half-width of the sliding average window)\n",
    "        \"\"\"\n",
    "        self.k = k\n",
    "        self.nonecount = 0;\n",
    "        self.count = 0.0;\n",
    "        self.avg_k = 0.0;\n",
    "        self.window = deque()\n",
    "    \n",
    "    #KEEP TRACK OF LAST K VALUES\n",
    "    def update(self,x):\n",
    "        \"\"\" Computes the sliding average after having seen element x \n",
    "        \n",
    "        Args:\n",
    "            x (float): the next element in the stream to view\n",
    "            \n",
    "        Returns: \n",
    "            (float): the new sliding average after having seen element x, if it can be calculated\n",
    "        \"\"\"\n",
    "        if (self.count < self.k):\n",
    "            if (x == None):\n",
    "                ret = self.avg_k/self.count\n",
    "                return self.avg_k/self.count\n",
    "            \n",
    "            self.window.append(x)\n",
    "            self.count+=1\n",
    "            self.avg_k += x\n",
    "            return None \n",
    "\n",
    "        #calculate end \n",
    "        elif x == None: \n",
    "            ret = self.avg_k/(self.count)\n",
    "            if (len(self.window) - self.k + self.nonecount) >= self.k  :\n",
    "                topop = self.window.popleft()\n",
    "                self.avg_k -= topop\n",
    "                self.count -= 1\n",
    "            self.nonecount += 1\n",
    "            return ret\n",
    "\n",
    "        elif self.count < (2*self.k):\n",
    "            self.window.append(x)\n",
    "            self.avg_k += x\n",
    "            self.count+=1\n",
    "            return self.avg_k/(self.count)\n",
    "        \n",
    "        #can calculate beginning \n",
    "        elif self.count == self.k:\n",
    "            if (x == None): \n",
    "                return self.avg_k/self.count;   \n",
    "            self.window.append(x);\n",
    "            ret_sum = x + self.avg_k;\n",
    "            self.count += 1\n",
    "            self.avg_k += x\n",
    "            return self.avg_k/self.count;   \n",
    "        \n",
    "            \n",
    "        #can calculate\n",
    "        elif self.count == (2*self.k):\n",
    "            self.avg_k += x\n",
    "            ret_val = self.avg_k/(self.count+1)            \n",
    "            self.avg_k -= self.window.popleft()\n",
    "            self.window.append(x);\n",
    "            return ret_val; \n",
    "\n",
    "def compute_sliding_averages(s, k): \n",
    "    \"\"\" Computes the sliding averages for a given Pandas series using the SlidingAverage class. \n",
    "    \n",
    "    Args:\n",
    "        s (pd.Series): a Pandas series for which the sliding average needs to be calculated\n",
    "        k (int): the half-width of the sliding average window \n",
    "        \n",
    "    Returns:\n",
    "        (pd.Series): a Pandas series of the sliding averages\n",
    "    \n",
    "    \"\"\"\n",
    "    if k == 0: return list(s.values);\n",
    "    \n",
    "    series = []\n",
    "    calc = SlidingAverage(k);\n",
    "    \n",
    "    for ele in s:\n",
    "        val = SlidingAverage.update(calc,ele)\n",
    "        if (val != None):\n",
    "            series.append(val)\n",
    "            \n",
    "    #stream ended - update k times with None  \n",
    "    iter_val = min(k,len(s))\n",
    "    for i in xrange(iter_val):\n",
    "        val = SlidingAverage.update(calc,None)\n",
    "        series.append(val)\n",
    "            \n",
    "    return series\n",
    "\n",
    "# AUTOLAB_IGNORE_START \n",
    "calc = compute_sliding_averages(pd.Series([1,2,3,4,5,6,7,8,9,10,11]),3) \n",
    "print calc\n",
    "# AUTOLAB_IGNORE_STOP\n"
   ]
  },
  {
   "cell_type": "markdown",
   "metadata": {},
   "source": [
    "## Part 4 Time Series Visualizations\n",
    "\n",
    "Time series data is typically displayed as signals over time. For example, this could be the speed of the bus over time, or the number of minutes behind or ahead of schedule a bus is. "
   ]
  },
  {
   "cell_type": "code",
   "execution_count": 11,
   "metadata": {
    "collapsed": false
   },
   "outputs": [],
   "source": [
    "import matplotlib\n",
    "# Use svg backend for better quality\n",
    "# AUTOLAB_IGNORE_START\n",
    "matplotlib.use(\"svg\")\n",
    "# AUTOLAB_IGNORE_STOP\n",
    "import matplotlib.pyplot as plt\n",
    "# AUTOLAB_IGNORE_START\n",
    "%matplotlib inline\n",
    "plt.style.use('ggplot')\n",
    "matplotlib.rcParams['figure.figsize'] = (10.0, 5.0) # you should adjust this to fit your screen\n",
    "# AUTOLAB_IGNORE_STOP"
   ]
  },
  {
   "cell_type": "markdown",
   "metadata": {},
   "source": [
    "As the first example, you'll plot the speed of the bus as a function of time. Here, we'll overlay multiple routes on a single plot. Can you determine the direction of the bus (to or away from downtown) from the signal? \n",
    "\n",
    "### Specification:\n",
    "1. Plot the sliding average speed of each bus, using a new line for each bus. \n",
    "2. Return a list of the resulting `Line2D` objects plot. The order of the line objects should correspond with the order of the trips. \n",
    "3. Do not call `plt.show()` inside the function. Autolab will not X out of any plotted images. \n",
    "4. We want you to plot the bus as a function of time, and not of datetime (these are different python types) which is the index of your dataframe. You can get the time with df.index.time. "
   ]
  },
  {
   "cell_type": "code",
   "execution_count": 61,
   "metadata": {
    "collapsed": false,
    "scrolled": true
   },
   "outputs": [
    {
     "data": {
      "image/png": "[encoded data removed]",
      "text/plain": [
       "<matplotlib.figure.Figure at 0xa277cc0>"
      ]
     },
     "metadata": {},
     "output_type": "display_data"
    }
   ],
   "source": [
    "def plot_trip(trips, k):\n",
    "    \"\"\" Plots the measured speed and sliding average speed as a function of time \n",
    "    \n",
    "    Args: \n",
    "        trip (list): list of trip DataFrames to plot\n",
    "        k (int): the half-width of the sliding average window\n",
    "    \"\"\"\n",
    "    lines = []\n",
    "    for trip in trips:\n",
    "        avg = compute_sliding_averages(pd.Series(trip.loc[:, \"spd\"]),k)\n",
    "        time = trip.index.time\n",
    "        lines.extend(plt.plot(time,avg))\n",
    "        \n",
    "    return lines\n",
    "\n",
    "# Play around with these values. Can you differentiate the buses going towards downtown from the buses going away from downtown?\n",
    "# AUTOLAB_IGNORE_START\n",
    "lines = plot_trip(all_trips['61A'][:20], 15)\n",
    "plt.show()\n",
    "# AUTOLAB_IGNORE_STOP"
   ]
  },
  {
   "cell_type": "markdown",
   "metadata": {
    "collapsed": false,
    "scrolled": true
   },
   "source": [
    "We can also gain information from overall trends from averaging many data points. In the following function, you will plot the average speed of all buses at regular time intervals throughout the day. \n",
    "\n",
    "### Specification\n",
    "1. You should group the rows of the dataframe by taking the timestamp minus its value modulo t and ignoring the day/month/year (since the data was collected at 1 minute intervals, this means that t=1 corresponds to averaging one entry per day recorded).\n",
    "2. Return the PathCollection object of your plot. For example, if you create the plot using the matplotlib command `scatter(...)`, return the result of this function call. \n",
    "3. Do not call `plt.show()` inside the function. Autolab will not X out of any plotted images. "
   ]
  },
  {
   "cell_type": "code",
   "execution_count": 18,
   "metadata": {
    "collapsed": false,
    "scrolled": true
   },
   "outputs": [
    {
     "name": "stdout",
     "output_type": "stream",
     "text": [
      "<matplotlib.collections.PathCollection object at 0x000000000CCF05C0>\n"
     ]
    },
    {
     "data": {
      "image/png": "[encoded data removed]",
      "text/plain": [
       "<matplotlib.figure.Figure at 0xd4592e8>"
      ]
     },
     "metadata": {},
     "output_type": "display_data"
    }
   ],
   "source": [
    "import datetime\n",
    "\n",
    "def plot_avg_spd(df, t):\n",
    "    pass\n",
    "    \"\"\" Plot the average speed of all recorded buses within t minute intervals \n",
    "    Args: \n",
    "        df (pd.DataFrame): dataframe of bus data\n",
    "        t (int): the granularity of each time period (in minutes) for which an average is speed is calculated\n",
    "    \"\"\"\n",
    "    x = []\n",
    "    y = []\n",
    "    \n",
    "    new_df = df.copy()    \n",
    "    new_df[\"tmstmp\"] = df[\"tmstmp\"].apply(lambda dt: dt.replace(day=1,month=1,year=2016))\n",
    "\n",
    "    freqM = str(t) + \"Min\"\n",
    "    \n",
    "    grouped = new_df.set_index(\"tmstmp\").groupby(pd.TimeGrouper(freq = freqM)).mean()\n",
    "    \n",
    "    y = grouped.loc[:,\"spd\"]\n",
    "    x = list(grouped.index.time)\n",
    "    #plt.plot(x,y,'.')\n",
    "    return plt.scatter(x,y)\n",
    "    \n",
    "    #grouped = trip.groupby(\"tmstmp\")\n",
    "        \n",
    "# AUTOLAB_IGNORE_START\n",
    "s = plot_avg_spd(vdf, 5)\n",
    "print s\n",
    "plt.show()\n",
    "# AUTOLAB_IGNORE_STOP"
   ]
  },
  {
   "cell_type": "code",
   "execution_count": null,
   "metadata": {
    "collapsed": false
   },
   "outputs": [],
   "source": []
  }
 ],
 "metadata": {
  "anaconda-cloud": {},
  "kernelspec": {
   "display_name": "Python [Root]",
   "language": "python",
   "name": "Python [Root]"
  },
  "language_info": {
   "codemirror_mode": {
    "name": "ipython",
    "version": 2
   },
   "file_extension": ".py",
   "mimetype": "text/x-python",
   "name": "python",
   "nbconvert_exporter": "python",
   "pygments_lexer": "ipython2",
   "version": "2.7.12"
  }
 },
 "nbformat": 4,
 "nbformat_minor": 0
}
